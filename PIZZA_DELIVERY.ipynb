{
  "nbformat": 4,
  "nbformat_minor": 0,
  "metadata": {
    "colab": {
      "provenance": [],
      "authorship_tag": "ABX9TyPO0N9LQz8MTkDGbqcHi92d",
      "include_colab_link": true
    },
    "kernelspec": {
      "name": "python3",
      "display_name": "Python 3"
    },
    "language_info": {
      "name": "python"
    }
  },
  "cells": [
    {
      "cell_type": "markdown",
      "metadata": {
        "id": "view-in-github",
        "colab_type": "text"
      },
      "source": [
        "<a href=\"https://colab.research.google.com/github/Sejalkose/pizza-delivery/blob/main/PIZZA_DELIVERY.ipynb\" target=\"_parent\"><img src=\"https://colab.research.google.com/assets/colab-badge.svg\" alt=\"Open In Colab\"/></a>"
      ]
    },
    {
      "cell_type": "code",
      "execution_count": 1,
      "metadata": {
        "colab": {
          "base_uri": "https://localhost:8080/"
        },
        "id": "JWVZpqzPDMPn",
        "outputId": "464f0286-69c0-49e1-c7f1-32a44f87d6e4"
      },
      "outputs": [
        {
          "output_type": "stream",
          "name": "stdout",
          "text": [
            "Thank you for choosing Python Pizza Deliveries!\n",
            "What size pizza do you want? S, M, or L: M\n",
            " Do you want pepperoni? Y or N: Y\n",
            "Do you want extra cheese? Y or N: Y\n",
            "Your final bill is: $24.\n"
          ]
        }
      ],
      "source": [
        "print(\"Thank you for choosing Python Pizza Deliveries!\")\n",
        "size = input(\"What size pizza do you want? S, M, or L: \")\n",
        "add_pepperoni = input(\" Do you want pepperoni? Y or N: \")\n",
        "extra_cheese = input(\"Do you want extra cheese? Y or N: \")\n",
        "\n",
        "\n",
        "bill = 0\n",
        "if size == \"S\":\n",
        "  bill += 15\n",
        "elif size == \"M\":\n",
        "  bill += 20\n",
        "else:\n",
        "  bill += 25\n",
        "\n",
        "if add_pepperoni == \"Y\":\n",
        "  if size == \"S\":\n",
        "    bill += 2\n",
        "  else:\n",
        "    bill += 3\n",
        "else:\n",
        "  print(\"No pepperoni\")\n",
        "\n",
        "if extra_cheese == \"Y\":\n",
        "  bill += 1\n",
        "else:\n",
        "  print(\"No extra cheese.\")\n",
        "\n",
        "print(f\"Your final bill is: ${bill}.\")"
      ]
    }
  ]
}